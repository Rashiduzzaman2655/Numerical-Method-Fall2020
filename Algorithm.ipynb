{
  "nbformat": 4,
  "nbformat_minor": 0,
  "metadata": {
    "colab": {
      "name": "Untitled0.ipynb",
      "provenance": [],
      "authorship_tag": "ABX9TyPsHr25imEgvjlY3oplo61f",
      "include_colab_link": true
    },
    "kernelspec": {
      "name": "python3",
      "display_name": "Python 3"
    }
  },
  "cells": [
    {
      "cell_type": "markdown",
      "metadata": {
        "id": "view-in-github",
        "colab_type": "text"
      },
      "source": [
        "<a href=\"https://colab.research.google.com/github/Rashiduzzaman2655/Numerical-Method-Fall2020/blob/main/Algorithm.ipynb\" target=\"_parent\"><img src=\"https://colab.research.google.com/assets/colab-badge.svg\" alt=\"Open In Colab\"/></a>"
      ]
    },
    {
      "cell_type": "markdown",
      "metadata": {
        "id": "lHZAlJJR3ocq"
      },
      "source": [
        "## **Newton divided difference interpolation method:**"
      ]
    },
    {
      "cell_type": "code",
      "metadata": {
        "colab": {
          "base_uri": "https://localhost:8080/"
        },
        "id": "kihvOKxi2jTu",
        "outputId": "2ad56834-f967-476a-b2c7-33056f19cfae"
      },
      "source": [
        "def proterm(i, value, x): \r\n",
        "\tpro = 1; \r\n",
        "\tfor j in range(i): \r\n",
        "\t\tpro = pro * (value - x[j]); \r\n",
        "\treturn pro; \r\n",
        "\r\n",
        "def dividedDiffTable(x, y, n): \r\n",
        "\r\n",
        "\tfor i in range(1, n): \r\n",
        "\t\tfor j in range(n - i): \r\n",
        "\t\t\ty[j][i] = ((y[j][i - 1] - y[j + 1][i - 1]) /\r\n",
        "\t\t\t\t\t\t\t\t\t(x[j] - x[i + j])); \r\n",
        "\treturn y; \r\n",
        "\r\n",
        "def applyFormula(value, x, y, n): \r\n",
        "\r\n",
        "\tsum = y[0][0]; \r\n",
        "\r\n",
        "\tfor i in range(1, n): \r\n",
        "\t\tsum = sum + (proterm(i, value, x) * y[0][i]); \r\n",
        "\t\r\n",
        "\treturn sum; \r\n",
        "\r\n",
        "def printDiffTable(y, n): \r\n",
        "\r\n",
        "\tfor i in range(n): \r\n",
        "\t\tfor j in range(n - i): \r\n",
        "\t\t\tprint(round(y[i][j], 4), \"\\t\", \r\n",
        "\t\t\t\t\t\t\tend = \" \"); \r\n",
        "\r\n",
        "\t\tprint(\"\"); \r\n",
        "\r\n",
        "n = 4; \r\n",
        "y = [[0 for i in range(10)] \r\n",
        "\t\tfor j in range(10)]; \r\n",
        "x = [ 5, 6, 9, 11 ]; \r\n",
        "\r\n",
        "\r\n",
        "y[0][0] = 12; \r\n",
        "y[1][0] = 13; \r\n",
        "y[2][0] = 14; \r\n",
        "y[3][0] = 16; \r\n",
        "\r\n",
        "\r\n",
        "y=dividedDiffTable(x, y, n); \r\n",
        " \r\n",
        "printDiffTable(y, n); \r\n",
        "\r\n",
        "value = 7; \r\n",
        "\r\n",
        "print(\"\\nValue at\", value, \"is\", \r\n",
        "\t\tround(applyFormula(value, x, y, n), 2)) \r\n",
        "\r\n",
        "\r\n",
        "\r\n"
      ],
      "execution_count": 14,
      "outputs": [
        {
          "output_type": "stream",
          "text": [
            "12 \t 1.0 \t -0.1667 \t 0.05 \t \n",
            "13 \t 0.3333 \t 0.1333 \t \n",
            "14 \t 1.0 \t \n",
            "16 \t \n",
            "\n",
            "Value at 7 is 13.47\n"
          ],
          "name": "stdout"
        }
      ]
    },
    {
      "cell_type": "markdown",
      "metadata": {
        "id": "L2bNDwCu_ZHG"
      },
      "source": [
        "# \"Maximum and Minimum interpolation formoula\""
      ]
    },
    {
      "cell_type": "code",
      "metadata": {
        "colab": {
          "base_uri": "https://localhost:8080/"
        },
        "id": "xB8_7_142lxu",
        "outputId": "f2cdf26d-fe29-425b-a1e2-2d32223527b7"
      },
      "source": [
        "import numpy as np\r\n",
        "L = np.random.random(100)\r\n",
        "sum(L)\r\n",
        "np.sum(L)\r\n",
        "big_array = np.random.rand(1000000)\r\n",
        "%timeit sum(big_array)\r\n",
        "%timeit np.sum(big_array)\r\n",
        "np.min(big_array), max(big_array)\r\n",
        "np.min(big_array), np.max(big_array)\r\n",
        "%timeit min(big_array)\r\n",
        "%timeit np.min(big_array)\r\n",
        "print(big_array.min(), big_array.max(), big_array.sum())\r\n",
        "M = np.random.random((3, 4))\r\n",
        "print(M)\r\n",
        "M.sum()\r\n",
        "M.min(axis=0)\r\n",
        "M.max(axis=1)\r\n",
        "data=[189, 170, 189, 163, 183]\r\n",
        "heights = np.array(data['height(cm)'])\r\n",
        "print(heights)\r\n",
        "heights = np.array(data['height(cm)'])\r\n",
        "print(heights)\r\n",
        "print(\"Minimum height:    \", heights.min())\r\n",
        "print(\"Maximum height:    \", heights.max())"
      ],
      "execution_count": 22,
      "outputs": [
        {
          "output_type": "stream",
          "text": [
            "10 loops, best of 3: 181 ms per loop\n",
            "1000 loops, best of 3: 370 µs per loop\n",
            "10 loops, best of 3: 107 ms per loop\n",
            "1000 loops, best of 3: 425 µs per loop\n",
            "1.5246792927081643e-06 0.9999994945851726 500291.2681677153\n",
            "[[0.95884823 0.14226662 0.91687131 0.4585458 ]\n",
            " [0.26191873 0.52637772 0.07573245 0.25379603]\n",
            " [0.77557934 0.16976231 0.62046144 0.41245066]]\n"
          ],
          "name": "stdout"
        }
      ]
    },
    {
      "cell_type": "markdown",
      "metadata": {
        "id": "QRkSJHrr2pvG"
      },
      "source": [
        "### **\"Implement Factorization Method\"**"
      ]
    },
    {
      "cell_type": "code",
      "metadata": {
        "id": "k_UAZ_X_2V0u"
      },
      "source": [
        "import numpy as np\r\n",
        "\r\n",
        "\r\n",
        "class MF():\r\n",
        "    \r\n",
        "    def __init__(self, R, K, alpha, beta, iterations):\r\n",
        "        \r\n",
        "        \r\n",
        "        self.R = R\r\n",
        "        self.num_users, self.num_items = R.shape\r\n",
        "        self.K = K\r\n",
        "        self.alpha = alpha\r\n",
        "        self.beta = beta\r\n",
        "        self.iterations = iterations\r\n",
        "\r\n",
        "    def train(self):\r\n",
        "        # Initialize user and item latent feature matrice\r\n",
        "        self.P = np.random.normal(scale=1./self.K, size=(self.num_users, self.K))\r\n",
        "        self.Q = np.random.normal(scale=1./self.K, size=(self.num_items, self.K))\r\n",
        "        \r\n",
        "        # Initialize the biases\r\n",
        "        self.b_u = np.zeros(self.num_users)\r\n",
        "        self.b_i = np.zeros(self.num_items)\r\n",
        "        self.b = np.mean(self.R[np.where(self.R != 0)])\r\n",
        "        \r\n",
        "        # Create a list of training samples\r\n",
        "        self.samples = [\r\n",
        "            (i, j, self.R[i, j])\r\n",
        "            for i in range(self.num_users)\r\n",
        "            for j in range(self.num_items)\r\n",
        "            if self.R[i, j] > 0\r\n",
        "        ]\r\n",
        "        \r\n",
        "        # Perform stochastic gradient descent for number of iterations\r\n",
        "        training_process = []\r\n",
        "        for i in range(self.iterations):\r\n",
        "            np.random.shuffle(self.samples)\r\n",
        "            self.sgd()\r\n",
        "            mse = self.mse()\r\n",
        "            training_process.append((i, mse))\r\n",
        "            if (i+1) % 10 == 0:\r\n",
        "                print(\"Iteration: %d ; error = %.4f\" % (i+1, mse))\r\n",
        "        \r\n",
        "        return training_process\r\n",
        "\r\n",
        "    def mse(self):\r\n",
        "        \r\n",
        "        xs, ys = self.R.nonzero()\r\n",
        "        predicted = self.full_matrix()\r\n",
        "        error = 0\r\n",
        "        for x, y in zip(xs, ys):\r\n",
        "            error += pow(self.R[x, y] - predicted[x, y], 2)\r\n",
        "        return np.sqrt(error)\r\n",
        "\r\n",
        "    def sgd(self):\r\n",
        "        \r\n",
        "        for i, j, r in self.samples:\r\n",
        "            # Computer prediction and error\r\n",
        "            prediction = self.get_rating(i, j)\r\n",
        "            e = (r - prediction)\r\n",
        "            \r\n",
        "            # Update biases\r\n",
        "            self.b_u[i] += self.alpha * (e - self.beta * self.b_u[i])\r\n",
        "            self.b_i[j] += self.alpha * (e - self.beta * self.b_i[j])\r\n",
        "            \r\n",
        "            # Create copy of row of P since we need to update it but use older values for update on Q\r\n",
        "            P_i = self.P[i, :][:]\r\n",
        "            \r\n",
        "            # Update user and item latent feature matrices\r\n",
        "            self.P[i, :] += self.alpha * (e * self.Q[j, :] - self.beta * self.P[i,:])\r\n",
        "            self.Q[j, :] += self.alpha * (e * P_i - self.beta * self.Q[j,:])\r\n",
        "\r\n",
        "    def get_rating(self, i, j):\r\n",
        "        \r\n",
        "        prediction = self.b + self.b_u[i] + self.b_i[j] + self.P[i, :].dot(self.Q[j, :].T)\r\n",
        "        return prediction\r\n",
        "    \r\n",
        "    def full_matrix(self):\r\n",
        "       \r\n",
        "        return self.b + self.b_u[:,np.newaxis] + self.b_i[np.newaxis:,] + self.P.dot(self.Q.T)"
      ],
      "execution_count": 11,
      "outputs": []
    }
  ]
}